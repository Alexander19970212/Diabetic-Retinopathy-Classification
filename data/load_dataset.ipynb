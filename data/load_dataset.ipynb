{
 "cells": [
  {
   "cell_type": "code",
   "execution_count": 24,
   "metadata": {},
   "outputs": [],
   "source": [
    "# !gdown --folder https://drive.google.com/drive/folders/1z6tSFmxW_aNayUqVxx6h6bY4kwGzUTEC\n",
    "# !mkdir datasets # if doesn't exists\n",
    "# !touch ../.gitignore # if doesn't exist\n",
    "# !echo 'data/datasets' >> ../.gitignore # only once\n",
    "\n",
    "# !cat DDR_dataset/DDR-dataset.zip* > ../../mnt/local/data/kalexu97/DDR_dataset.zip\n",
    "# !rm -r DDR_dataset\n",
    "# !apt install unzip\n",
    "# !unzip ../../mnt/local/data/kalexu97/DDR_dataset.zip -d ../../mnt/local/data/kalexu97\n",
    "# !rm ../../mnt/local/data/kalexu97/DDR_dataset.zip\n"
   ]
  },
  {
   "cell_type": "code",
   "execution_count": 16,
   "metadata": {},
   "outputs": [
    {
     "name": "stdout",
     "output_type": "stream",
     "text": [
      "\u001b[0m\u001b[01;34mDDR_dataset\u001b[0m/  data_utils.py     load_dataset.ipynb    saliency_detect.py\n",
      "crop.py       how_to_use.ipynb  preprocess_tables.py\n"
     ]
    }
   ],
   "source": [
    "ls"
   ]
  },
  {
   "cell_type": "code",
   "execution_count": 28,
   "metadata": {},
   "outputs": [
    {
     "name": "stdout",
     "output_type": "stream",
     "text": [
      "Subset test: \n",
      "Processed successufly:  3955\n",
      "Processing failed:  150\n",
      "Subset train: \n",
      "Processed successufly:  6573\n",
      "Processing failed:  262\n",
      "Subset valid: \n",
      "Processed successufly:  2643\n",
      "Processing failed:  90\n"
     ]
    }
   ],
   "source": [
    "\n",
    "# !python crop.py -n 16 --crop-size 512 --image-folder ../../mnt/local/data/kalexu97/DDR-dataset/DR_grading --output-folder ../../mnt/local/data/kalexu97/DDR-dataset/DR_grading_processed\n",
    "# !python saliency_detect.py -n 16 --image-folder ../../mnt/local/data/kalexu97/DDR-dataset/DR_grading_processed --output-folder ../../mnt/local/data/kalexu97/DDR-dataset/DR_grading_saliency\n",
    "# !python preprocess_tables.py --dataset_name DDR --root_dir ../../mnt/local/data/kalexu97\n",
    "\n",
    "# !echo 'dr_clf' >> ../.gitignore\n"
   ]
  },
  {
   "cell_type": "code",
   "execution_count": 33,
   "metadata": {},
   "outputs": [
    {
     "name": "stdout",
     "output_type": "stream",
     "text": [
      "test  train  valid\n"
     ]
    }
   ],
   "source": [
    "# !ls ../../mnt/local/data/kalexu97\n",
    "!ls ../../mnt/local/data/kalexu97/DDR-dataset/DR_grading_saliency\n",
    "# !mv ../../mnt/local/data/kalexu97/DDR-dataset/DR_grading_saliency/train/valid ../../mnt/local/data/kalexu97/DDR-dataset/DR_grading_saliency/valid"
   ]
  },
  {
   "cell_type": "code",
   "execution_count": 14,
   "metadata": {},
   "outputs": [
    {
     "name": "stdout",
     "output_type": "stream",
     "text": [
      "Subset test: \n",
      "Processed successufly:  4037\n",
      "Processing failed:  1232\n",
      "Subset train: \n",
      "Processed successufly:  18769\n",
      "Processing failed:  5819\n",
      "Subset valid: \n",
      "Processed successufly:  4043\n",
      "Processing failed:  1226\n"
     ]
    }
   ],
   "source": [
    "# !python crop.py -n 8 --crop-size 512 --image-folder ../../mnt/local/data/kalexu97/EyePacs_dataset/EyePacs_grading --output-folder ../../mnt/local/data/kalexu97/EyePacs_dataset/EyePacs_grading_processed\n",
    "# !python saliency_detect.py -n 16 --image-folder ../../mnt/local/data/kalexu97/EyePacs_dataset/EyePacs_grading_processed --output-folder ../../mnt/local/data/kalexu97/EyePacs_dataset/EyePacs_grading_saliency\n",
    "# !python preprocess_tables.py --dataset_name EyePacs --root_dir ../../mnt/local/data/kalexu97\n"
   ]
  },
  {
   "cell_type": "code",
   "execution_count": 24,
   "metadata": {},
   "outputs": [],
   "source": [
    "# !pip install numpy #==1.21.1\n",
    "# !pip uninstall opencv_python -y\n",
    "# !pip uninstall opencv-contrib-python -y\n",
    "# !pip install opencv_python\n",
    "# !pip install opencv-contrib-python\n",
    "# !pip install opencv_python==4.5.5.64\n",
    "# !pip install opencv-contrib-python==4.6.0.66\n",
    "# !pip install tqdm==4.64.0\n",
    "# !pip install pillow\n",
    "# !pip install scikit_image==0.19.2\n",
    "# !pip uninstall numpy -y\n",
    "# !pip install setuptools\n",
    "# !pip install -U pip setuptools \n",
    "# !pip install --upgrade \"setuptools < 36\"\n",
    "# !pip install distutils\n",
    "# !pip install numpy"
   ]
  }
 ],
 "metadata": {
  "kernelspec": {
   "display_name": "Python 3 (ipykernel)",
   "language": "python",
   "name": "python3"
  },
  "language_info": {
   "codemirror_mode": {
    "name": "ipython",
    "version": 3
   },
   "file_extension": ".py",
   "mimetype": "text/x-python",
   "name": "python",
   "nbconvert_exporter": "python",
   "pygments_lexer": "ipython3",
   "version": "3.9.19"
  }
 },
 "nbformat": 4,
 "nbformat_minor": 4
}
