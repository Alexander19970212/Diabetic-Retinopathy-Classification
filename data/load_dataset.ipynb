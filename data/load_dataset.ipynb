{
 "cells": [
  {
   "cell_type": "code",
   "execution_count": 18,
   "metadata": {},
   "outputs": [],
   "source": [
    "# !gdown --folder https://drive.google.com/drive/folders/1z6tSFmxW_aNayUqVxx6h6bY4kwGzUTEC\n",
    "# !mkdir datasets # if doesn't exists\n",
    "# !touch ../.gitignore # if doesn't exist\n",
    "# !echo 'data/datasets' >> ../.gitignore # only once\n",
    "\n",
    "# !cat DDR_dataset/DDR-dataset.zip* > datasets/DDR_dataset.zip\n",
    "# !rm -r DDR_dataset\n",
    "# !unzip datasets/DDR_dataset.zip -d datasets\n",
    "# !rm datasets/DDR_dataset.zip\n"
   ]
  },
  {
   "cell_type": "code",
   "execution_count": 24,
   "metadata": {},
   "outputs": [],
   "source": [
    "# !pip install numpy #==1.21.1\n",
    "# !pip uninstall opencv_python -y\n",
    "# !pip uninstall opencv-contrib-python -y\n",
    "# !pip install opencv_python\n",
    "# !pip install opencv-contrib-python\n",
    "# !pip install opencv_python==4.5.5.64\n",
    "# !pip install opencv-contrib-python==4.6.0.66\n",
    "# !pip install tqdm==4.64.0\n",
    "# !pip install pillow\n",
    "# !pip install scikit_image==0.19.2\n",
    "# !pip uninstall numpy -y\n",
    "# !pip install setuptools\n",
    "# !pip install -U pip setuptools \n",
    "# !pip install --upgrade \"setuptools < 36\"\n",
    "# !pip install distutils\n",
    "# !pip install numpy"
   ]
  },
  {
   "cell_type": "code",
   "execution_count": 25,
   "metadata": {},
   "outputs": [
    {
     "name": "stdout",
     "output_type": "stream",
     "text": [
      "Loading tasks...\n",
      "Waiting for all subprocesses done...\n",
      "Processed 500 images\n",
      "Processed 1000 images\n",
      "Processed 1500 images\n",
      "Processed 2000 images\n",
      "Processed 2500 images\n",
      "Processed 3000 images\n",
      "Processed 3500 images\n",
      "Processed 4000 images\n",
      "Processed 4500 images\n",
      "Processed 5000 images\n",
      "Processed 5500 images\n",
      "Processed 6000 images\n",
      "Processed 6500 images\n",
      "Processed 7000 images\n",
      "Processed 7500 images\n",
      "Processed 8000 images\n",
      "Processed 8500 images\n",
      "Processed 9000 images\n",
      "Processed 9500 images\n",
      "All subprocesses done.\n"
     ]
    }
   ],
   "source": [
    "\n",
    "# !python crop.py -n 8 --crop-size 512 --image-folder datasets/DDR-dataset/DR_grading --output-folder datasets/DDR-dataset/DR_grading_processed\n",
    "# !python saliency_detect.py -n 8 --image-folder datasets/DDR-dataset/DR_grading_processed --output-folder datasets/DDR-dataset/DR_grading_saliency\n",
    "\n",
    "# !echo 'dr_clf' >> ../.gitignore\n"
   ]
  }
 ],
 "metadata": {
  "kernelspec": {
   "display_name": "Python 3",
   "language": "python",
   "name": "python3"
  },
  "language_info": {
   "codemirror_mode": {
    "name": "ipython",
    "version": 3
   },
   "file_extension": ".py",
   "mimetype": "text/x-python",
   "name": "python",
   "nbconvert_exporter": "python",
   "pygments_lexer": "ipython3",
   "version": "3.12.3"
  }
 },
 "nbformat": 4,
 "nbformat_minor": 2
}
