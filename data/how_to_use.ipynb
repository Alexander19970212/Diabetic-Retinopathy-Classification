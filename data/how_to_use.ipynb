{
 "cells": [
  {
   "cell_type": "code",
   "execution_count": null,
   "metadata": {},
   "outputs": [],
   "source": [
    "from data_utils import build_datasets, collate_fn\n",
    "\n",
    "test_ds, train_ds, valid_ds = build_datasets(\"DDR\", input_size=224)\n",
    "train_ds[[0, 1, 2]] #[\"mask\"][0].shape"
   ]
  }
 ],
 "metadata": {
  "language_info": {
   "name": "python"
  }
 },
 "nbformat": 4,
 "nbformat_minor": 2
}
