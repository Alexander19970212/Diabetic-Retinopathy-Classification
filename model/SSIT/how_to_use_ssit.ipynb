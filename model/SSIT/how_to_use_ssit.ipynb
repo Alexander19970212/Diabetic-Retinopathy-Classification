{
 "cells": [
  {
   "cell_type": "code",
   "execution_count": 1,
   "metadata": {},
   "outputs": [
    {
     "name": "stderr",
     "output_type": "stream",
     "text": [
      "/home/kalexu97/Projects/Diabetic-Retinopathy-Classification/dr_clf/lib/python3.12/site-packages/tqdm/auto.py:21: TqdmWarning: IProgress not found. Please update jupyter and ipywidgets. See https://ipywidgets.readthedocs.io/en/stable/user_install.html\n",
      "  from .autonotebook import tqdm as notebook_tqdm\n"
     ]
    },
    {
     "data": {
      "text/plain": [
       "torch.Size([7, 197, 384])"
      ]
     },
     "execution_count": 1,
     "metadata": {},
     "output_type": "execute_result"
    }
   ],
   "source": [
    "import torch\n",
    "from ssit_models import SSitEncoder\n",
    "\n",
    "model = SSitEncoder('ViT-S-p16', '../checkpoints/pretrained_vits_imagenet_initialized.pt')\n",
    "\n",
    "test_tensor = torch.randn(7, 3, 224, 224)\n",
    "embedings = model(test_tensor)\n",
    "embedings.shape"
   ]
  }
 ],
 "metadata": {
  "kernelspec": {
   "display_name": "dr_clf",
   "language": "python",
   "name": "python3"
  },
  "language_info": {
   "codemirror_mode": {
    "name": "ipython",
    "version": 3
   },
   "file_extension": ".py",
   "mimetype": "text/x-python",
   "name": "python",
   "nbconvert_exporter": "python",
   "pygments_lexer": "ipython3",
   "version": "3.12.3"
  }
 },
 "nbformat": 4,
 "nbformat_minor": 2
}
