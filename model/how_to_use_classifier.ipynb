{
 "cells": [
  {
   "cell_type": "code",
   "execution_count": 4,
   "metadata": {},
   "outputs": [
    {
     "name": "stdout",
     "output_type": "stream",
     "text": [
      "External embedings are used\n",
      "Load weights form checkpoints/pretrained_vits_imagenet_initialized.pt\n"
     ]
    }
   ],
   "source": [
    "import torch\n",
    "import os\n",
    "os.environ[\"CUDA_VISIBLE_DEVICES\"]=\"1\" # is need to train on 'hachiko'\n",
    "\n",
    "from classifier import ClfConfig, Classifier\n",
    "\n",
    "import sys\n",
    "sys.path.insert(1, 'SSIT')\n",
    "\n",
    "test_model_config = ClfConfig(external_embedings=True, only_ssit_embds=True, feat_concat=False, emb_model_checkpoint=\"checkpoints/pretrained_vits_imagenet_initialized.pt\")\n",
    "test_model = Classifier(test_model_config)"
   ]
  },
  {
   "cell_type": "code",
   "execution_count": 2,
   "metadata": {},
   "outputs": [
    {
     "name": "stdout",
     "output_type": "stream",
     "text": [
      "torch.Size([7, 5])\n"
     ]
    }
   ],
   "source": [
    "test_images = torch.randn(7, 3, 224, 224)\n",
    "test_embedings = torch.rand(7, 197, 384)\n",
    "\n",
    "output = test_model(test_images)[\"logits\"]\n",
    "print(output.shape)"
   ]
  },
  {
   "cell_type": "code",
   "execution_count": 24,
   "metadata": {},
   "outputs": [
    {
     "name": "stdout",
     "output_type": "stream",
     "text": [
      "Checkpoint is saved\n"
     ]
    }
   ],
   "source": [
    "# save and load backbone model checkpoint\n",
    "test_model.save_backbone_checkpoint(\"checkpoints/resnet50_backbone.pt\")\n",
    "# test_model.load_backbone_checkpoint(\"checkpoints/resnet50_backbone.pt\")"
   ]
  }
 ],
 "metadata": {
  "kernelspec": {
   "display_name": "Python 3 (ipykernel)",
   "language": "python",
   "name": "python3"
  },
  "language_info": {
   "codemirror_mode": {
    "name": "ipython",
    "version": 3
   },
   "file_extension": ".py",
   "mimetype": "text/x-python",
   "name": "python",
   "nbconvert_exporter": "python",
   "pygments_lexer": "ipython3",
   "version": "3.9.19"
  }
 },
 "nbformat": 4,
 "nbformat_minor": 4
}
