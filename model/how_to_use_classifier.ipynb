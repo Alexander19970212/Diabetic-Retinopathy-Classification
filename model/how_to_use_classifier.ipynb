{
 "cells": [
  {
   "cell_type": "code",
   "execution_count": 1,
   "metadata": {},
   "outputs": [
    {
     "name": "stderr",
     "output_type": "stream",
     "text": [
      "/home/kalexu97/Projects/Diabetic-Retinopathy-Classification/dr_clf/lib/python3.12/site-packages/tqdm/auto.py:21: TqdmWarning: IProgress not found. Please update jupyter and ipywidgets. See https://ipywidgets.readthedocs.io/en/stable/user_install.html\n",
      "  from .autonotebook import tqdm as notebook_tqdm\n",
      "/home/kalexu97/Projects/Diabetic-Retinopathy-Classification/dr_clf/lib/python3.12/site-packages/torchvision/models/_utils.py:208: UserWarning: The parameter 'pretrained' is deprecated since 0.13 and may be removed in the future, please use 'weights' instead.\n",
      "  warnings.warn(\n",
      "/home/kalexu97/Projects/Diabetic-Retinopathy-Classification/dr_clf/lib/python3.12/site-packages/torchvision/models/_utils.py:223: UserWarning: Arguments other than a weight enum or `None` for 'weights' are deprecated since 0.13 and may be removed in the future. The current behavior is equivalent to passing `weights=ResNet50_Weights.IMAGENET1K_V1`. You can also use `weights=ResNet50_Weights.DEFAULT` to get the most up-to-date weights.\n",
      "  warnings.warn(msg)\n",
      "/home/kalexu97/Projects/Diabetic-Retinopathy-Classification/model/SSIT/ssit_models.py:22: FutureWarning: You are using `torch.load` with `weights_only=False` (the current default value), which uses the default pickle module implicitly. It is possible to construct malicious pickle data which will execute arbitrary code during unpickling (See https://github.com/pytorch/pytorch/blob/main/SECURITY.md#untrusted-models for more details). In a future release, the default value for `weights_only` will be flipped to `True`. This limits the functions that could be executed during unpickling. Arbitrary objects will no longer be allowed to be loaded via this mode unless they are explicitly allowlisted by the user via `torch.serialization.add_safe_globals`. We recommend you start setting `weights_only=True` for any use case where you don't have full control of the loaded file. Please open an issue on GitHub for any issues related to this experimental feature.\n",
      "  checkpoint = torch.load(checkpoint_path)\n"
     ]
    },
    {
     "name": "stdout",
     "output_type": "stream",
     "text": [
      "Load weights form checkpoints/pretrained_vits_imagenet_initialized.pt\n"
     ]
    }
   ],
   "source": [
    "import torch\n",
    "from classifier import ClfConfig, Classifier\n",
    "\n",
    "import sys\n",
    "sys.path.insert(1, 'SSIT')\n",
    "\n",
    "test_model_config = ClfConfig(external_embedings=True, feat_concat=False, emb_model_checkpoint=\"checkpoints/pretrained_vits_imagenet_initialized.pt\")\n",
    "test_model = Classifier(test_model_config)"
   ]
  },
  {
   "cell_type": "code",
   "execution_count": 2,
   "metadata": {},
   "outputs": [
    {
     "name": "stdout",
     "output_type": "stream",
     "text": [
      "torch.Size([7, 5])\n"
     ]
    }
   ],
   "source": [
    "test_images = torch.randn(7, 3, 224, 224)\n",
    "test_embedings = torch.rand(7, 197, 384)\n",
    "\n",
    "output = test_model(test_images)[\"logits\"]\n",
    "print(output.shape)"
   ]
  },
  {
   "cell_type": "code",
   "execution_count": 24,
   "metadata": {},
   "outputs": [
    {
     "name": "stdout",
     "output_type": "stream",
     "text": [
      "Checkpoint is saved\n"
     ]
    }
   ],
   "source": [
    "# save and load backbone model checkpoint\n",
    "test_model.save_backbone_checkpoint(\"checkpoints/resnet50_backbone.pt\")\n",
    "# test_model.load_backbone_checkpoint(\"checkpoints/resnet50_backbone.pt\")"
   ]
  }
 ],
 "metadata": {
  "kernelspec": {
   "display_name": "dr_clf",
   "language": "python",
   "name": "python3"
  },
  "language_info": {
   "codemirror_mode": {
    "name": "ipython",
    "version": 3
   },
   "file_extension": ".py",
   "mimetype": "text/x-python",
   "name": "python",
   "nbconvert_exporter": "python",
   "pygments_lexer": "ipython3",
   "version": "3.12.3"
  }
 },
 "nbformat": 4,
 "nbformat_minor": 2
}
